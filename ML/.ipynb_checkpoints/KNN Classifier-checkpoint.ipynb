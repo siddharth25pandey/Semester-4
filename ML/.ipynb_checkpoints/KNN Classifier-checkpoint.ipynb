{
 "cells": [
  {
   "cell_type": "markdown",
   "metadata": {},
   "source": [
    "<div class=\"alert alert-info\" style=\"background-color:#5d3a8e; color:white; padding:0px 10px; border-radius:5px;\"><h1 style='margin:10px 5px'>ML Assignment-1</h1>"
   ]
  },
  {
   "cell_type": "markdown",
   "metadata": {},
   "source": [
    "<div class=\"alert alert-info\" style=\"background-color:#5d3a8e; color:white; padding:0px 10px; border-radius:5px;\"><h3 style='margin:10px 5px'> Siddharth Pandey</h3>\n",
    "</div>\n",
    "<div class=\"alert alert-info\" style=\"background-color:#5d3a8e; color:white; padding:0px 10px; border-radius:5px;\"><h3 style='margin:10px 5px'>S20190010163</h3>\n",
    "</div>"
   ]
  },
  {
   "cell_type": "markdown",
   "metadata": {},
   "source": [
    "<div class=\"alert alert-info\" style=\"padding:0px 10px; border-radius:5px;\"><h1 style='margin:10px 5px'>K-Nearest Neighbour Classification</h1>\n",
    "</div>"
   ]
  },
  {
   "cell_type": "code",
   "execution_count": 1,
   "metadata": {},
   "outputs": [],
   "source": [
    "import pandas as pd\n",
    "import numpy as np\n",
    "import seaborn as sns\n",
    "import matplotlib.pyplot as plt\n",
    "import operator\n",
    "from pandas.plotting import scatter_matrix\n",
    "from sklearn.model_selection import train_test_split \n",
    "import sklearn\n",
    "from sklearn import svm, preprocessing\n",
    "import os\n",
    "from sklearn import metrics\n",
    "import os\n",
    "import pickle\n",
    "from sklearn import datasets\n",
    "from sklearn.metrics import confusion_matrix \n",
    "from sklearn.metrics import accuracy_score \n",
    "from sklearn.metrics import classification_report"
   ]
  },
  {
   "cell_type": "code",
   "execution_count": 2,
   "metadata": {},
   "outputs": [],
   "source": [
    "def loadData(path):\n",
    "    listOfTestFiles = os.listdir(path=path)\n",
    "    train = []\n",
    "    train_labels = []\n",
    "    test = []\n",
    "    test_labels = []\n",
    "        \n",
    "        \n",
    "    print(\"Training files = \",listOfTestFiles[1:6])\n",
    "    #For collecting Training data:\n",
    "    for file in listOfTestFiles[1:6]:\n",
    "        with open(path+file,'rb') as fo:\n",
    "            dict = pickle.load(fo,encoding='bytes')\n",
    "            train.append(dict[b'data'])\n",
    "            train_labels.append(dict[b'labels'])\n",
    "\n",
    "    print(listOfTestFiles[7])\n",
    "    #for collecting Testing data\n",
    "    with open(path+listOfTestFiles[7],'rb') as fo:\n",
    "            dict = pickle.load(fo,encoding='bytes')\n",
    "            test.append(dict[b'data'])\n",
    "            test_labels.append(dict[b'labels'])\n",
    "\n",
    "    dictData = {}\n",
    "    dictData['train_data'] = np.reshape(np.array(train),newshape=(np.array(train).shape[0]*np.array(train).shape[1],np.array(train).shape[2]))\n",
    "    dictData['train_labels'] = np.reshape(np.array(train_labels),newshape=(np.array(train_labels).shape[0]*np.array(train_labels).shape[1]))\n",
    "    dictData['test_data'] = np.reshape(np.array(test),newshape=(np.array(test).shape[0]*np.array(test).shape[1],np.array(test).shape[2]))\n",
    "    dictData['test_labels'] = np.reshape(np.array(test_labels),newshape=(np.array(test_labels).shape[0]*np.array(test_labels).shape[1]))\n",
    "    return dictData"
   ]
  },
  {
   "cell_type": "markdown",
   "metadata": {},
   "source": [
    "Dataset Link: https://www.cs.toronto.edu/~kriz/cifar.html"
   ]
  },
  {
   "cell_type": "code",
   "execution_count": 3,
   "metadata": {},
   "outputs": [
    {
     "name": "stdout",
     "output_type": "stream",
     "text": [
      "Training files =  ['data_batch_1', 'data_batch_2', 'data_batch_3', 'data_batch_4', 'data_batch_5']\n",
      "test_batch\n"
     ]
    }
   ],
   "source": [
    "#load the dataset\n",
    "dataset = loadData(path='cifar-10-batches-py/')"
   ]
  },
  {
   "cell_type": "code",
   "execution_count": 4,
   "metadata": {},
   "outputs": [
    {
     "data": {
      "text/plain": [
       "(50000, 3072)"
      ]
     },
     "execution_count": 4,
     "metadata": {},
     "output_type": "execute_result"
    }
   ],
   "source": [
    "dataset['train_data'].shape"
   ]
  },
  {
   "cell_type": "code",
   "execution_count": 5,
   "metadata": {},
   "outputs": [
    {
     "data": {
      "image/png": "[encoded data removed]",
      "text/plain": [
       "<Figure size 432x288 with 1 Axes>"
      ]
     },
     "metadata": {
      "needs_background": "light"
     },
     "output_type": "display_data"
    }
   ],
   "source": [
    "\n",
    "#visualizing train sample\n",
    "temp = dataset['test_data'][99]\n",
    "\n",
    "# Since every row represents one example to re-map it to image we have to form three 32,32 matrix,\n",
    "#representing RGB values\n",
    "\n",
    "R = temp[0:1024].reshape(32,32)\n",
    "G = np.reshape(temp[1024:2048],newshape=(32,32))\n",
    "B = np.reshape(temp[2048:],newshape=(32,32))\n",
    "temp = np.dstack((R,G,B))   #for stacking all these 32,32 matrices.\n",
    "plt.imshow(temp)\n",
    "plt.show()"
   ]
  },
  {
   "cell_type": "code",
   "execution_count": 6,
   "metadata": {},
   "outputs": [],
   "source": [
    "x_train,y_train, x_test, y_test = dataset['train_data'],dataset['train_labels'],dataset['test_data'],dataset['test_labels']"
   ]
  },
  {
   "cell_type": "code",
   "execution_count": 7,
   "metadata": {},
   "outputs": [
    {
     "name": "stdout",
     "output_type": "stream",
     "text": [
      "No. of training samples =  49000\n",
      "No. of validation set samples =  1000\n"
     ]
    }
   ],
   "source": [
    "#Splitting the data into train and validation set\n",
    "# train = 49000 samples and validation set = 1000 samples\n",
    "\n",
    "train_x,train_y = x_train[0:49000],y_train[0:49000]\n",
    "val_x, val_y = x_train[49000:],y_train[49000:]\n",
    "\n",
    "print(\"No. of training samples = \",train_x.shape[0])\n",
    "print(\"No. of validation set samples = \",val_x.shape[0])"
   ]
  },
  {
   "cell_type": "code",
   "execution_count": 8,
   "metadata": {},
   "outputs": [],
   "source": [
    "#Building the actual classifier:\n",
    "#inputs will be of shape N X F where N = number of examples and F = number of features for each image.\n",
    "#labels will be of size N,1. This consists of labels for all N labels from 10 classes\n",
    "\n",
    "class kNearestNeighbour(object):\n",
    "    def __init__(self):\n",
    "        pass\n",
    "    \n",
    "    def train(self,X,Y):\n",
    "        #Knn will remember all of its training data\n",
    "        self.Xtr = X\n",
    "        self.Ytr = Y\n",
    "        \n",
    "    def predict(self,X,k):\n",
    "        #to get no. of samples in train set \n",
    "        test_samples = X.shape[0]\n",
    "        \n",
    "        Ypred = np.zeros(test_samples,dtype=self.Ytr.dtype)\n",
    "        \n",
    "        #Calculating the l1 distance between current samples of test and train set\n",
    "        for i in range(test_samples):\n",
    "            print(\"Test example = \",i,end=\"\\r\")\n",
    "            \n",
    "            #label_count is array of zeros used to store the count for each class while comparing neighbours\n",
    "            label_count = np.zeros(10,dtype=self.Ytr.dtype)    \n",
    "            \n",
    "            dist = np.sum(np.abs(X[i,:] - self.Xtr),axis=1)   #take the absolute sum horizontally across columns\n",
    "            \n",
    "            #idx will contain k smallest indices at the start of the list\n",
    "            #this is called partial sorting for more information look: https://docs.scipy.org/doc/numpy/reference/generated/numpy.argpartition.html\n",
    "            #min_ind will help us to slice through k indices which have minimum distance\n",
    "            idx = np.argpartition(dist,k)\n",
    "            min_ind = idx[:k]\n",
    "            \n",
    "            #This for loop iterates over min_ind and find the label present in train-set_Y for x\n",
    "            #and increase the count at that particular index whenever any label is repeated.\n",
    "            #Max value at any index is returned using np.argmax() and stored at ith index of Ypred i.e. predicted values\n",
    "            for x in min_ind:\n",
    "                label_count[int(self.Ytr[x])] +=1\n",
    "            Ypred[i] = np.argmax(label_count)\n",
    "    \n",
    "    \n",
    "        return Ypred"
   ]
  },
  {
   "cell_type": "code",
   "execution_count": 9,
   "metadata": {},
   "outputs": [
    {
     "name": "stdout",
     "output_type": "stream",
     "text": [
      "Test example =  999\r"
     ]
    }
   ],
   "source": [
    "#lets use validation set for prediction and to calculate accuracy\n",
    "#hyper-parameter k = 1 to 11, similarity measure = L1\n",
    "score = []\n",
    "for k in range(1,11,2):\n",
    "    knn = kNearestNeighbour()\n",
    "    knn.train(train_x,train_y)\n",
    "    val_y_pred = knn.predict(val_x,k)\n",
    "    score.append(accuracy_score(val_y,val_y_pred))"
   ]
  },
  {
   "cell_type": "code",
   "execution_count": 10,
   "metadata": {},
   "outputs": [
    {
     "name": "stdout",
     "output_type": "stream",
     "text": [
      "Confusion Matrix : \n",
      "  [[50  0  8  7  8  0  1  0 12  1]\n",
      " [36 22  9 14 11  0  6  2 15  4]\n",
      " [23  0 23  7 18  1  4  0  3  0]\n",
      " [28  2 24 21 16  4 11  1  5  0]\n",
      " [10  0 17  7 32  0  5  3  4  0]\n",
      " [18  3 21 13 16  8  9  5  4  1]\n",
      " [25  2 16 16 24  0 17  0  1  1]\n",
      " [19  2 16 19 28  1  4 15  2  1]\n",
      " [22  3  5  5  5  1  1  1 70  0]\n",
      " [20  8  9 20  7  4  4  2 16 15]]\n",
      "\n",
      " Accuracy Score : \n",
      "  0.273\n",
      "\n",
      " Classification Report : \n",
      "               precision    recall  f1-score   support\n",
      "\n",
      "           0       0.20      0.57      0.30        87\n",
      "           1       0.52      0.18      0.27       119\n",
      "           2       0.16      0.29      0.20        79\n",
      "           3       0.16      0.19      0.17       112\n",
      "           4       0.19      0.41      0.26        78\n",
      "           5       0.42      0.08      0.14        98\n",
      "           6       0.27      0.17      0.21       102\n",
      "           7       0.52      0.14      0.22       107\n",
      "           8       0.53      0.62      0.57       113\n",
      "           9       0.65      0.14      0.23       105\n",
      "\n",
      "    accuracy                           0.27      1000\n",
      "   macro avg       0.36      0.28      0.26      1000\n",
      "weighted avg       0.38      0.27      0.26      1000\n",
      "\n"
     ]
    }
   ],
   "source": [
    "print(\"Confusion Matrix : \\n \",confusion_matrix(val_y, val_y_pred))\n",
    "print(\"\\n Accuracy Score : \\n \",accuracy_score(val_y,val_y_pred))\n",
    "print(\"\\n Classification Report : \\n\",classification_report(val_y, val_y_pred))"
   ]
  },
  {
   "cell_type": "code",
   "execution_count": 11,
   "metadata": {},
   "outputs": [
    {
     "name": "stdout",
     "output_type": "stream",
     "text": [
      "At K = 4, Max Accuracy = 28.1\n"
     ]
    }
   ],
   "source": [
    "k_max = score.index(max(score))+1\n",
    "print( \"At K = {}, Max Accuracy = {}\".format(k_max, max(score)*100))"
   ]
  },
  {
   "cell_type": "code",
   "execution_count": 29,
   "metadata": {},
   "outputs": [
    {
     "name": "stdout",
     "output_type": "stream",
     "text": [
      "Val accuracy =  0.269\n",
      "Confusion Matrix : \n",
      "  [[56  2  5  6  3  0  3  0 10  2]\n",
      " [34 22 14 23  3  1  8  1 11  2]\n",
      " [25  1 27  6  9  1  5  1  4  0]\n",
      " [26  2 30 24 11  3  9  2  5  0]\n",
      " [12  1 20  5 28  0  8  2  2  0]\n",
      " [19  2 22 16 16  8  7  5  2  1]\n",
      " [24  0 18 24 20  1 11  0  2  2]\n",
      " [14  6 17 19 26  2  6 14  2  1]\n",
      " [29  3  7  1  4  1  1  0 66  1]\n",
      " [19 13  7 22  4  1  5  1 20 13]]\n",
      "\n",
      " Accuracy Score : \n",
      "  0.269\n",
      "\n",
      " Classification Report : \n",
      "               precision    recall  f1-score   support\n",
      "\n",
      "           0       0.22      0.64      0.32        87\n",
      "           1       0.42      0.18      0.26       119\n",
      "           2       0.16      0.34      0.22        79\n",
      "           3       0.16      0.21      0.19       112\n",
      "           4       0.23      0.36      0.28        78\n",
      "           5       0.44      0.08      0.14        98\n",
      "           6       0.17      0.11      0.13       102\n",
      "           7       0.54      0.13      0.21       107\n",
      "           8       0.53      0.58      0.56       113\n",
      "           9       0.59      0.12      0.20       105\n",
      "\n",
      "    accuracy                           0.27      1000\n",
      "   macro avg       0.35      0.28      0.25      1000\n",
      "weighted avg       0.36      0.27      0.25      1000\n",
      "\n"
     ]
    }
   ],
   "source": [
    "print('Val accuracy = ',np.mean(val_y_pred==val_y))\n",
    "print(\"Confusion Matrix : \\n \",confusion_matrix(val_y, val_y_pred))\n",
    "print(\"\\n Accuracy Score : \\n \",accuracy_score(val_y,val_y_pred))\n",
    "print(\"\\n Classification Report : \\n\",classification_report(val_y, val_y_pred))"
   ]
  },
  {
   "cell_type": "code",
   "execution_count": 12,
   "metadata": {},
   "outputs": [
    {
     "name": "stdout",
     "output_type": "stream",
     "text": [
      "Test example =  999\r"
     ]
    }
   ],
   "source": [
    "#hyper-parameter k = 5, similarity measure = L1\n",
    "\n",
    "val_y_pred = knn.predict(val_x,k_max)\n",
    "\n"
   ]
  },
  {
   "cell_type": "code",
   "execution_count": 13,
   "metadata": {},
   "outputs": [
    {
     "name": "stdout",
     "output_type": "stream",
     "text": [
      "Val accuracy =  0.269\n",
      "Confusion Matrix : \n",
      "  [[56  2  5  6  3  0  3  0 10  2]\n",
      " [34 22 14 23  3  1  8  1 11  2]\n",
      " [25  1 27  6  9  1  5  1  4  0]\n",
      " [26  2 30 24 11  3  9  2  5  0]\n",
      " [12  1 20  5 28  0  8  2  2  0]\n",
      " [19  2 22 16 16  8  7  5  2  1]\n",
      " [24  0 18 24 20  1 11  0  2  2]\n",
      " [14  6 17 19 26  2  6 14  2  1]\n",
      " [29  3  7  1  4  1  1  0 66  1]\n",
      " [19 13  7 22  4  1  5  1 20 13]]\n",
      "\n",
      " Accuracy Score : \n",
      "  0.269\n",
      "\n",
      " Classification Report : \n",
      "               precision    recall  f1-score   support\n",
      "\n",
      "           0       0.22      0.64      0.32        87\n",
      "           1       0.42      0.18      0.26       119\n",
      "           2       0.16      0.34      0.22        79\n",
      "           3       0.16      0.21      0.19       112\n",
      "           4       0.23      0.36      0.28        78\n",
      "           5       0.44      0.08      0.14        98\n",
      "           6       0.17      0.11      0.13       102\n",
      "           7       0.54      0.13      0.21       107\n",
      "           8       0.53      0.58      0.56       113\n",
      "           9       0.59      0.12      0.20       105\n",
      "\n",
      "    accuracy                           0.27      1000\n",
      "   macro avg       0.35      0.28      0.25      1000\n",
      "weighted avg       0.36      0.27      0.25      1000\n",
      "\n"
     ]
    }
   ],
   "source": [
    "print('Val accuracy = ',np.mean(val_y_pred==val_y))\n",
    "print(\"Confusion Matrix : \\n \",confusion_matrix(val_y, val_y_pred))\n",
    "print(\"\\n Accuracy Score : \\n \",accuracy_score(val_y,val_y_pred))\n",
    "print(\"\\n Classification Report : \\n\",classification_report(val_y, val_y_pred))"
   ]
  },
  {
   "cell_type": "code",
   "execution_count": 14,
   "metadata": {},
   "outputs": [
    {
     "data": {
      "image/png": "[encoded data removed]",
      "text/plain": [
       "<Figure size 432x288 with 1 Axes>"
      ]
     },
     "metadata": {
      "needs_background": "light"
     },
     "output_type": "display_data"
    }
   ],
   "source": [
    "plt.plot(val_y_pred,color='green')\n",
    "plt.xlabel('The values in the Testing Dataset')\n",
    "plt.ylabel('The Class of the images')\n",
    "plt.title('The Classification of the Images')\n",
    "plt.show()"
   ]
  },
  {
   "cell_type": "code",
   "execution_count": 15,
   "metadata": {},
   "outputs": [
    {
     "name": "stdout",
     "output_type": "stream",
     "text": [
      "The size of the Predicted value dataset is 1000 and the size of the Acutal value dataset is 10000\n"
     ]
    }
   ],
   "source": [
    "print(\"The size of the Predicted value dataset is {} and the size of the Acutal value dataset is {}\".format(len(val_y_pred),len(y_test)))\n",
    "new1 =y_test[0:1000]\n",
    "new2=y_test[9000:10000]"
   ]
  },
  {
   "cell_type": "code",
   "execution_count": null,
   "metadata": {},
   "outputs": [],
   "source": [
    "# Mean absolute error is the mean of the difference between the actual and predicted value results\n",
    "print('Mean Absolute Error:', metrics.mean_absolute_error(new1, val_y_pred)) \n",
    "# Mean squared error is the mean of the difference between the square of actual and predicted value results\n",
    "print('Mean Squared Error:', metrics.mean_squared_error(new1, val_y_pred))  \n",
    "# Root mean squared error is the square root of the mean of the difference between the square of actual and predicted value results\n",
    "print('Root Mean Squared Error:', np.sqrt(metrics.mean_squared_error(new1, val_y_pred)))"
   ]
  },
  {
   "cell_type": "code",
   "execution_count": 16,
   "metadata": {},
   "outputs": [
    {
     "data": {
      "image/png": "[encoded data removed]",
      "text/plain": [
       "<Figure size 1440x1080 with 1 Axes>"
      ]
     },
     "metadata": {
      "needs_background": "light"
     },
     "output_type": "display_data"
    }
   ],
   "source": [
    "df1 = pd.DataFrame({'Actual': new1, 'Predicted': val_y_pred})\n",
    "df2 = df1.head(25)\n",
    "df2.plot(kind='bar',figsize=(20,15))\n",
    "plt.grid(which='major', linestyle='-', linewidth='0.5', color='green')\n",
    "plt.show()"
   ]
  },
  {
   "cell_type": "code",
   "execution_count": 17,
   "metadata": {},
   "outputs": [
    {
     "data": {
      "image/png": "[encoded data removed]",
      "text/plain": [
       "<Figure size 1440x1080 with 1 Axes>"
      ]
     },
     "metadata": {
      "needs_background": "light"
     },
     "output_type": "display_data"
    }
   ],
   "source": [
    "df1 = pd.DataFrame({'Actual': new2, 'Predicted': val_y_pred})\n",
    "df2 = df1.head(25)\n",
    "df2.plot(kind='bar',figsize=(20,15))\n",
    "plt.grid(which='major', linestyle='-', linewidth='0.5', color='green')\n",
    "plt.show()"
   ]
  },
  {
   "cell_type": "code",
   "execution_count": 21,
   "metadata": {},
   "outputs": [
    {
     "data": {
      "text/plain": [
       "[<matplotlib.lines.Line2D at 0xe4db80>]"
      ]
     },
     "execution_count": 21,
     "metadata": {},
     "output_type": "execute_result"
    },
    {
     "data": {
      "image/png": "[encoded data removed]",
      "text/plain": [
       "<Figure size 432x288 with 1 Axes>"
      ]
     },
     "metadata": {
      "needs_background": "light"
     },
     "output_type": "display_data"
    }
   ],
   "source": [
    "plt.plot(new1,val_y_pred)"
   ]
  },
  {
   "cell_type": "code",
   "execution_count": 22,
   "metadata": {},
   "outputs": [
    {
     "name": "stdout",
     "output_type": "stream",
     "text": [
      "Test example =  999\r"
     ]
    }
   ],
   "source": [
    "val_y_pred = knn.predict(val_x,3)"
   ]
  },
  {
   "cell_type": "code",
   "execution_count": 23,
   "metadata": {},
   "outputs": [
    {
     "name": "stdout",
     "output_type": "stream",
     "text": [
      "Val accuracy =  0.253\n",
      "Confusion Matrix : \n",
      "  [[53  2  8  6  3  0  1  0 12  2]\n",
      " [36 25 19 21  4  1  3  1  8  1]\n",
      " [21  2 32  4  9  1  5  1  3  1]\n",
      " [19  3 39 24 13  4  6  1  3  0]\n",
      " [10  3 22  8 23  0  6  3  3  0]\n",
      " [22  2 25 16 16  8  4  1  3  1]\n",
      " [28  2 23 20 18  1  8  0  1  1]\n",
      " [21  7 20 19 19  4  4  9  4  0]\n",
      " [30  4  8  3  2  1  1  1 63  0]\n",
      " [20 15  8 27  5  1  5  0 16  8]]\n",
      "\n",
      " Accuracy Score : \n",
      "  0.253\n",
      "\n",
      " Classification Report : \n",
      "               precision    recall  f1-score   support\n",
      "\n",
      "           0       0.20      0.61      0.31        87\n",
      "           1       0.38      0.21      0.27       119\n",
      "           2       0.16      0.41      0.23        79\n",
      "           3       0.16      0.21      0.18       112\n",
      "           4       0.21      0.29      0.24        78\n",
      "           5       0.38      0.08      0.13        98\n",
      "           6       0.19      0.08      0.11       102\n",
      "           7       0.53      0.08      0.15       107\n",
      "           8       0.54      0.56      0.55       113\n",
      "           9       0.57      0.08      0.13       105\n",
      "\n",
      "    accuracy                           0.25      1000\n",
      "   macro avg       0.33      0.26      0.23      1000\n",
      "weighted avg       0.34      0.25      0.23      1000\n",
      "\n"
     ]
    }
   ],
   "source": [
    "print('Val accuracy = ',np.mean(val_y_pred==val_y))\n",
    "print(\"Confusion Matrix : \\n \",confusion_matrix(val_y, val_y_pred))\n",
    "print(\"\\n Accuracy Score : \\n \",accuracy_score(val_y,val_y_pred))\n",
    "print(\"\\n Classification Report : \\n\",classification_report(val_y, val_y_pred))"
   ]
  },
  {
   "cell_type": "code",
   "execution_count": null,
   "metadata": {},
   "outputs": [],
   "source": [
    "# Mean absolute error is the mean of the difference between the actual and predicted value results\n",
    "print('Mean Absolute Error:', metrics.mean_absolute_error(new1, val_y_pred)) \n",
    "# Mean squared error is the mean of the difference between the square of actual and predicted value results\n",
    "print('Mean Squared Error:', metrics.mean_squared_error(new1, val_y_pred))  \n",
    "# Root mean squared error is the square root of the mean of the difference between the square of actual and predicted value results\n",
    "print('Root Mean Squared Error:', np.sqrt(metrics.mean_squared_error(new1, val_y_pred)))"
   ]
  },
  {
   "cell_type": "code",
   "execution_count": 24,
   "metadata": {},
   "outputs": [
    {
     "name": "stdout",
     "output_type": "stream",
     "text": [
      "Test example =  999\r"
     ]
    }
   ],
   "source": [
    "#lets use validation set for prediction and to calculate accuracy\n",
    "#hyper-parameter k = 3, similarity measure = L1\n",
    "score = []\n",
    "for k in range(11,21,2):\n",
    "    knn = kNearestNeighbour()\n",
    "    knn.train(train_x,train_y)\n",
    "    val_y_pred = knn.predict(val_x,k)\n",
    "    score.append(accuracy_score(val_y,val_y_pred))"
   ]
  },
  {
   "cell_type": "code",
   "execution_count": 25,
   "metadata": {},
   "outputs": [
    {
     "name": "stdout",
     "output_type": "stream",
     "text": [
      "Confusion Matrix : \n",
      "  [[50  0  7  4  5  0  1  0 19  1]\n",
      " [39 22  6 10 15  1 11  1 11  3]\n",
      " [20  0 33  2 17  0  5  0  2  0]\n",
      " [29  1 24 23 18  3  7  3  4  0]\n",
      " [10  1 19  6 33  0  3  3  3  0]\n",
      " [15  0 18 22 15  6 14  3  5  0]\n",
      " [23  1 22 11 16  1 24  1  2  1]\n",
      " [20  3 11 14 34  0  5 19  1  0]\n",
      " [23  2  5  2  3  0  4  0 74  0]\n",
      " [20 10 11 19  8  2  3  1 17 14]]\n",
      "\n",
      " Accuracy Score : \n",
      "  0.298\n",
      "\n",
      " Classification Report : \n",
      "               precision    recall  f1-score   support\n",
      "\n",
      "           0       0.20      0.57      0.30        87\n",
      "           1       0.55      0.18      0.28       119\n",
      "           2       0.21      0.42      0.28        79\n",
      "           3       0.20      0.21      0.20       112\n",
      "           4       0.20      0.42      0.27        78\n",
      "           5       0.46      0.06      0.11        98\n",
      "           6       0.31      0.24      0.27       102\n",
      "           7       0.61      0.18      0.28       107\n",
      "           8       0.54      0.65      0.59       113\n",
      "           9       0.74      0.13      0.23       105\n",
      "\n",
      "    accuracy                           0.30      1000\n",
      "   macro avg       0.40      0.31      0.28      1000\n",
      "weighted avg       0.42      0.30      0.28      1000\n",
      "\n"
     ]
    }
   ],
   "source": [
    "print(\"Confusion Matrix : \\n \",confusion_matrix(val_y, val_y_pred))\n",
    "print(\"\\n Accuracy Score : \\n \",accuracy_score(val_y,val_y_pred))\n",
    "print(\"\\n Classification Report : \\n\",classification_report(val_y, val_y_pred))"
   ]
  },
  {
   "cell_type": "code",
   "execution_count": null,
   "metadata": {},
   "outputs": [],
   "source": [
    "# Mean absolute error is the mean of the difference between the actual and predicted value results\n",
    "print('Mean Absolute Error:', metrics.mean_absolute_error(new1, val_y_pred)) \n",
    "# Mean squared error is the mean of the difference between the square of actual and predicted value results\n",
    "print('Mean Squared Error:', metrics.mean_squared_error(new1, val_y_pred))  \n",
    "# Root mean squared error is the square root of the mean of the difference between the square of actual and predicted value results\n",
    "print('Root Mean Squared Error:', np.sqrt(metrics.mean_squared_error(new1, val_y_pred)))"
   ]
  },
  {
   "cell_type": "code",
   "execution_count": 26,
   "metadata": {},
   "outputs": [
    {
     "name": "stdout",
     "output_type": "stream",
     "text": [
      "At K = 4, Max Accuracy = 29.799999999999997\n"
     ]
    }
   ],
   "source": [
    "k_max = score.index(max(score))+1\n",
    "print( \"At K = {}, Max Accuracy = {}\".format(k_max, max(score)*100))"
   ]
  },
  {
   "cell_type": "code",
   "execution_count": null,
   "metadata": {},
   "outputs": [],
   "source": [
    "print('Val accuracy = ',np.mean(val_y_pred==val_y))\n",
    "print(\"Confusion Matrix : \\n \",confusion_matrix(val_y, val_y_pred))\n",
    "print(\"\\n Accuracy Score : \\n \",accuracy_score(val_y,val_y_pred))\n",
    "print(\"\\n Classification Report : \\n\",classification_report(val_y, val_y_pred))"
   ]
  },
  {
   "cell_type": "code",
   "execution_count": null,
   "metadata": {},
   "outputs": [],
   "source": [
    "# Mean absolute error is the mean of the difference between the actual and predicted value results\n",
    "print('Mean Absolute Error:', metrics.mean_absolute_error(new1, val_y_pred)) \n",
    "# Mean squared error is the mean of the difference between the square of actual and predicted value results\n",
    "print('Mean Squared Error:', metrics.mean_squared_error(new1, val_y_pred))  \n",
    "# Root mean squared error is the square root of the mean of the difference between the square of actual and predicted value results\n",
    "print('Root Mean Squared Error:', np.sqrt(metrics.mean_squared_error(new1, val_y_pred)))"
   ]
  },
  {
   "cell_type": "code",
   "execution_count": 27,
   "metadata": {},
   "outputs": [
    {
     "name": "stdout",
     "output_type": "stream",
     "text": [
      "Test example =  999\r"
     ]
    }
   ],
   "source": [
    "#hyper-parameter k = 5, similarity measure = L1\n",
    "\n",
    "val_y_pred = knn.predict(val_x,k_max)\n"
   ]
  },
  {
   "cell_type": "code",
   "execution_count": 28,
   "metadata": {},
   "outputs": [
    {
     "name": "stdout",
     "output_type": "stream",
     "text": [
      "Val accuracy =  0.269\n",
      "Confusion Matrix : \n",
      "  [[56  2  5  6  3  0  3  0 10  2]\n",
      " [34 22 14 23  3  1  8  1 11  2]\n",
      " [25  1 27  6  9  1  5  1  4  0]\n",
      " [26  2 30 24 11  3  9  2  5  0]\n",
      " [12  1 20  5 28  0  8  2  2  0]\n",
      " [19  2 22 16 16  8  7  5  2  1]\n",
      " [24  0 18 24 20  1 11  0  2  2]\n",
      " [14  6 17 19 26  2  6 14  2  1]\n",
      " [29  3  7  1  4  1  1  0 66  1]\n",
      " [19 13  7 22  4  1  5  1 20 13]]\n",
      "\n",
      " Accuracy Score : \n",
      "  0.269\n",
      "\n",
      " Classification Report : \n",
      "               precision    recall  f1-score   support\n",
      "\n",
      "           0       0.22      0.64      0.32        87\n",
      "           1       0.42      0.18      0.26       119\n",
      "           2       0.16      0.34      0.22        79\n",
      "           3       0.16      0.21      0.19       112\n",
      "           4       0.23      0.36      0.28        78\n",
      "           5       0.44      0.08      0.14        98\n",
      "           6       0.17      0.11      0.13       102\n",
      "           7       0.54      0.13      0.21       107\n",
      "           8       0.53      0.58      0.56       113\n",
      "           9       0.59      0.12      0.20       105\n",
      "\n",
      "    accuracy                           0.27      1000\n",
      "   macro avg       0.35      0.28      0.25      1000\n",
      "weighted avg       0.36      0.27      0.25      1000\n",
      "\n"
     ]
    }
   ],
   "source": [
    "print('Val accuracy = ',np.mean(val_y_pred==val_y))\n",
    "print(\"Confusion Matrix : \\n \",confusion_matrix(val_y, val_y_pred))\n",
    "print(\"\\n Accuracy Score : \\n \",accuracy_score(val_y,val_y_pred))\n",
    "print(\"\\n Classification Report : \\n\",classification_report(val_y, val_y_pred))"
   ]
  },
  {
   "cell_type": "code",
   "execution_count": 34,
   "metadata": {},
   "outputs": [
    {
     "name": "stdout",
     "output_type": "stream",
     "text": [
      "Mean Absolute Error: 3.541\n",
      "Mean Squared Error: 18.689\n",
      "Root Mean Squared Error: 4.323077607445881\n"
     ]
    }
   ],
   "source": [
    "# Mean absolute error is the mean of the difference between the actual and predicted value results\n",
    "print('Mean Absolute Error:', metrics.mean_absolute_error(new1, val_y_pred)) \n",
    "# Mean squared error is the mean of the difference between the square of actual and predicted value results\n",
    "print('Mean Squared Error:', metrics.mean_squared_error(new1, val_y_pred))  \n",
    "# Root mean squared error is the square root of the mean of the difference between the square of actual and predicted value results\n",
    "print('Root Mean Squared Error:', np.sqrt(metrics.mean_squared_error(new1, val_y_pred)))"
   ]
  },
  {
   "cell_type": "code",
   "execution_count": 30,
   "metadata": {},
   "outputs": [],
   "source": [
    "# Function to calculate Precision and Recall\n",
    "\n",
    "def calc_precision_recall(y_true, y_pred):\n",
    "    \n",
    "    # Convert predictions to series with index matching y_true\n",
    "    y_pred = pd.Series(y_pred, index=y_true.index)\n",
    "    \n",
    "    # Instantiate counters\n",
    "    TP = 0\n",
    "    FP = 0\n",
    "    FN = 0\n",
    "\n",
    "    # Determine whether each prediction is TP, FP, TN, or FN\n",
    "    for i in y_true.index: \n",
    "        if y_true[i]==y_pred[i]==1:\n",
    "           TP += 1\n",
    "        if y_pred[i]==1 and y_true[i]!=y_pred[i]:\n",
    "           FP += 1\n",
    "        if y_pred[i]==0 and y_test[i]!=y_pred[i]:\n",
    "           FN += 1\n",
    "    \n",
    "    # Calculate true positive rate and false positive rate\n",
    "    # Use try-except statements to avoid problem of dividing by 0\n",
    "    try:\n",
    "        precision = TP / (TP + FP)\n",
    "    except:\n",
    "        precision = 1\n",
    "    \n",
    "    try:\n",
    "        recall = TP / (TP + FN)\n",
    "    except:\n",
    "        recall = 1\n",
    "\n",
    "    return precision, recall"
   ]
  },
  {
   "cell_type": "code",
   "execution_count": 32,
   "metadata": {},
   "outputs": [
    {
     "ename": "AttributeError",
     "evalue": "'numpy.ndarray' object has no attribute 'index'",
     "output_type": "error",
     "traceback": [
      "\u001b[1;31m---------------------------------------------------------------------------\u001b[0m",
      "\u001b[1;31mAttributeError\u001b[0m                            Traceback (most recent call last)",
      "\u001b[1;32m<ipython-input-32-fe876ad66542>\u001b[0m in \u001b[0;36m<module>\u001b[1;34m\u001b[0m\n\u001b[1;32m----> 1\u001b[1;33m \u001b[0mcalc_precision_recall\u001b[0m\u001b[1;33m(\u001b[0m\u001b[0my_test\u001b[0m\u001b[1;33m,\u001b[0m\u001b[0mval_y_pred\u001b[0m \u001b[1;33m)\u001b[0m\u001b[1;33m\u001b[0m\u001b[1;33m\u001b[0m\u001b[0m\n\u001b[0m",
      "\u001b[1;32m<ipython-input-30-caac3590855d>\u001b[0m in \u001b[0;36mcalc_precision_recall\u001b[1;34m(y_true, y_pred)\u001b[0m\n\u001b[0;32m      4\u001b[0m \u001b[1;33m\u001b[0m\u001b[0m\n\u001b[0;32m      5\u001b[0m     \u001b[1;31m# Convert predictions to series with index matching y_true\u001b[0m\u001b[1;33m\u001b[0m\u001b[1;33m\u001b[0m\u001b[1;33m\u001b[0m\u001b[0m\n\u001b[1;32m----> 6\u001b[1;33m     \u001b[0my_pred\u001b[0m \u001b[1;33m=\u001b[0m \u001b[0mpd\u001b[0m\u001b[1;33m.\u001b[0m\u001b[0mSeries\u001b[0m\u001b[1;33m(\u001b[0m\u001b[0my_pred\u001b[0m\u001b[1;33m,\u001b[0m \u001b[0mindex\u001b[0m\u001b[1;33m=\u001b[0m\u001b[0my_true\u001b[0m\u001b[1;33m.\u001b[0m\u001b[0mindex\u001b[0m\u001b[1;33m)\u001b[0m\u001b[1;33m\u001b[0m\u001b[1;33m\u001b[0m\u001b[0m\n\u001b[0m\u001b[0;32m      7\u001b[0m \u001b[1;33m\u001b[0m\u001b[0m\n\u001b[0;32m      8\u001b[0m     \u001b[1;31m# Instantiate counters\u001b[0m\u001b[1;33m\u001b[0m\u001b[1;33m\u001b[0m\u001b[1;33m\u001b[0m\u001b[0m\n",
      "\u001b[1;31mAttributeError\u001b[0m: 'numpy.ndarray' object has no attribute 'index'"
     ]
    }
   ],
   "source": [
    "calc_precision_recall(y_test,val_y_pred )"
   ]
  },
  {
   "cell_type": "code",
   "execution_count": null,
   "metadata": {},
   "outputs": [],
   "source": [
    "from sklearn.metrics import plot_precision_recall_curve\n",
    "\n",
    "plot_precision_recall_curve(kNearestNeighbour(), x_test, y_test, name = 'Logistic Regression')\n",
    "#plot_precision_recall_curve(lr_l2, X_test, y_test, name = 'L2 Logistic Regression');"
   ]
  },
  {
   "cell_type": "code",
   "execution_count": null,
   "metadata": {},
   "outputs": [],
   "source": []
  }
 ],
 "metadata": {
  "kernelspec": {
   "display_name": "Python 3",
   "language": "python",
   "name": "python3"
  },
  "language_info": {
   "codemirror_mode": {
    "name": "ipython",
    "version": 3
   },
   "file_extension": ".py",
   "mimetype": "text/x-python",
   "name": "python",
   "nbconvert_exporter": "python",
   "pygments_lexer": "ipython3",
   "version": "3.8.2"
  }
 },
 "nbformat": 4,
 "nbformat_minor": 4
}
